{
 "cells": [
  {
   "cell_type": "code",
   "execution_count": 7,
   "metadata": {},
   "outputs": [],
   "source": [
    "from PIL import Image \n",
    "import glob as gb\n",
    "import numpy as np\n",
    "import keras\n"
   ]
  },
  {
   "cell_type": "code",
   "execution_count": 8,
   "metadata": {},
   "outputs": [],
   "source": [
    "image_width  = 40\n",
    "image_height = 40"
   ]
  },
  {
   "cell_type": "code",
   "execution_count": 9,
   "metadata": {},
   "outputs": [],
   "source": [
    "def load_hoda_image(path):\n",
    "    all_files = gb.glob( path + \"/*.bmp\")\n",
    "    data = []\n",
    "    for i in range(len(all_files)):\n",
    "        image_file = Image.open(all_files[i]) # open colour image\n",
    "        image_file = image_file.convert('L')\n",
    "        image_file = image_file.resize((image_width, image_height), Image.ANTIALIAS)\n",
    "        np_array_file = np.array(image_file)\n",
    "        data.append(np_array_file)\n",
    "    return np.array(data)"
   ]
  },
  {
   "cell_type": "code",
   "execution_count": 10,
   "metadata": {},
   "outputs": [],
   "source": [
    "def load_hoda_labels(path):\n",
    "    all_files = gb.glob( path + \"/*.bmp\")\n",
    "    data = []\n",
    "    for i in range(len(all_files)):\n",
    "        x = all_files[i].split(\"_\")\n",
    "        y = x[1].replace(\".bmp\" , \"\")\n",
    "        data.append(y)\n",
    "    return np.array(data)"
   ]
  },
  {
   "cell_type": "code",
   "execution_count": 11,
   "metadata": {},
   "outputs": [],
   "source": [
    "def load_hoda():\n",
    "    test_images = load_hoda_image('datasets/hoda/test')\n",
    "    test_labels = load_hoda_labels('datasets/hoda/test')\n",
    "    train_images = load_hoda_image('datasets/hoda/train')\n",
    "    train_labels = load_hoda_labels('datasets/hoda/train')\n",
    "    return train_images, train_labels, test_images, test_labels\n",
    "    "
   ]
  },
  {
   "cell_type": "code",
   "execution_count": 12,
   "metadata": {},
   "outputs": [],
   "source": [
    "train_images, train_labels, test_images, test_labels = load_hoda()"
   ]
  },
  {
   "cell_type": "code",
   "execution_count": 13,
   "metadata": {},
   "outputs": [],
   "source": [
    "from keras import models\n",
    "from keras import layers\n",
    "\n",
    "network = models.Sequential()\n",
    "network.add(layers.Dense(512, activation='relu', input_shape=(image_width * image_height,)))\n",
    "#network.add(layers.Dense(512, activation='relu'))\n",
    "\n",
    "network.add(layers.Dense(10, activation='softmax'))"
   ]
  },
  {
   "cell_type": "code",
   "execution_count": 14,
   "metadata": {},
   "outputs": [],
   "source": [
    "network.compile(optimizer='rmsprop',\n",
    "                loss='categorical_crossentropy',\n",
    "                metrics=['accuracy'])"
   ]
  },
  {
   "cell_type": "code",
   "execution_count": 15,
   "metadata": {},
   "outputs": [],
   "source": [
    "train_images = train_images.reshape((60000, image_width * image_height))\n",
    "train_images = train_images.astype('float32') / 255\n",
    "\n",
    "test_images = test_images.reshape((20000, image_width * image_height))\n",
    "test_images = test_images.astype('float32') / 255"
   ]
  },
  {
   "cell_type": "code",
   "execution_count": 16,
   "metadata": {},
   "outputs": [],
   "source": [
    "from keras.utils import to_categorical\n",
    "\n",
    "train_labels = to_categorical(train_labels)\n",
    "test_labels = to_categorical(test_labels)"
   ]
  },
  {
   "cell_type": "code",
   "execution_count": 17,
   "metadata": {},
   "outputs": [
    {
     "name": "stdout",
     "output_type": "stream",
     "text": [
      "Epoch 1/5\n",
      "60000/60000 [==============================] - 9s 155us/step - loss: 0.1544 - acc: 0.9567\n",
      "Epoch 2/5\n",
      "60000/60000 [==============================] - 9s 148us/step - loss: 0.0508 - acc: 0.9852\n",
      "Epoch 3/5\n",
      "60000/60000 [==============================] - 9s 150us/step - loss: 0.0354 - acc: 0.9896\n",
      "Epoch 4/5\n",
      "60000/60000 [==============================] - 9s 149us/step - loss: 0.0275 - acc: 0.9916\n",
      "Epoch 5/5\n",
      "60000/60000 [==============================] - 9s 150us/step - loss: 0.0239 - acc: 0.9932\n"
     ]
    },
    {
     "data": {
      "text/plain": [
       "<keras.callbacks.History at 0x7f0562044fd0>"
      ]
     },
     "execution_count": 17,
     "metadata": {},
     "output_type": "execute_result"
    }
   ],
   "source": [
    "network.fit(train_images, train_labels, epochs=5, batch_size=128)"
   ]
  },
  {
   "cell_type": "code",
   "execution_count": 18,
   "metadata": {},
   "outputs": [
    {
     "name": "stdout",
     "output_type": "stream",
     "text": [
      "20000/20000 [==============================] - 1s 67us/step\n"
     ]
    }
   ],
   "source": [
    "test_loss, test_acc = network.evaluate(test_images, test_labels)"
   ]
  },
  {
   "cell_type": "code",
   "execution_count": 19,
   "metadata": {},
   "outputs": [
    {
     "name": "stdout",
     "output_type": "stream",
     "text": [
      "test_acc: 0.982\n"
     ]
    }
   ],
   "source": [
    "print('test_acc:', test_acc)"
   ]
  },
  {
   "cell_type": "code",
   "execution_count": 20,
   "metadata": {},
   "outputs": [],
   "source": [
    "def one_hot_encode_to_number(one_hot_coded):\n",
    "    val = 0\n",
    "    for i in range(0,10,1):\n",
    "        val += i * one_hot_coded[i]\n",
    "    return val"
   ]
  },
  {
   "cell_type": "code",
   "execution_count": 21,
   "metadata": {},
   "outputs": [],
   "source": [
    "def one_hot_encode_percent_number(one_hot_coded):\n",
    "    result = [];\n",
    "    for i in range(0,10,1):\n",
    "        per = one_hot_coded[i] * 100\n",
    "        result.append(round(per,3))\n",
    "    return result"
   ]
  },
  {
   "cell_type": "code",
   "execution_count": 22,
   "metadata": {},
   "outputs": [],
   "source": [
    "def predicate_result(network, index):\n",
    "    inp = np.array([test_images[index]])\n",
    "    real_label = one_hot_encode_to_number(test_labels[index])\n",
    "    result = one_hot_encode_percent_number(network.predict(inp)[0])\n",
    "    return real_label, result"
   ]
  },
  {
   "cell_type": "code",
   "execution_count": 23,
   "metadata": {},
   "outputs": [
    {
     "name": "stdout",
     "output_type": "stream",
     "text": [
      "real label is  0.0\n",
      "0 :  100.0%\n",
      "1 :    0.0%\n",
      "2 :    0.0%\n",
      "3 :    0.0%\n",
      "4 :    0.0%\n",
      "5 :    0.0%\n",
      "6 :    0.0%\n",
      "7 :    0.0%\n",
      "8 :    0.0%\n",
      "9 :    0.0%\n"
     ]
    }
   ],
   "source": [
    "real_label, percent_result = predicate_result(network, 120)\n",
    "print('real label is ', real_label)\n",
    "for i in range(len(percent_result)):\n",
    "    print(i, ':' , '{:6}%'.format(percent_result[i]))\n"
   ]
  }
 ],
 "metadata": {
  "kernelspec": {
   "display_name": "Python 3",
   "language": "python",
   "name": "python3"
  },
  "language_info": {
   "codemirror_mode": {
    "name": "ipython",
    "version": 3
   },
   "file_extension": ".py",
   "mimetype": "text/x-python",
   "name": "python",
   "nbconvert_exporter": "python",
   "pygments_lexer": "ipython3",
   "version": "3.5.2"
  }
 },
 "nbformat": 4,
 "nbformat_minor": 2
}
